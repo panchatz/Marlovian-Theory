{
 "cells": [
  {
   "cell_type": "code",
   "execution_count": 1,
   "metadata": {},
   "outputs": [],
   "source": [
    "import os\n",
    "import pandas as pd\n",
    "import numpy as np\n",
    "import tensorflow as tf\n",
    "import tensorflow_text as text\n",
    "import tensorflow_hub as hub\n",
    "from tensorflow.keras.layers import Dense, Dropout, Input\n",
    "from sklearn.model_selection import train_test_split\n",
    "from sklearn.metrics import accuracy_score,class_likelihood_ratios\n",
    "import pydot # it needs Graphviz to be installed as well\n",
    "import clean\n",
    "import datetime\n",
    "from matplotlib import pyplot as plt\n",
    "\n"
   ]
  },
  {
   "cell_type": "code",
   "execution_count": 4,
   "metadata": {},
   "outputs": [],
   "source": [
    "#variables used for the creation of the corpus and the configuration of the model\n",
    "ProjConfig = {\n",
    "  'under_sample': True, #use undersampling of Shakespeare corpus sentences\n",
    "  'under_sampling_weight': 100, #the number of sentences added to the other author's median\n",
    "  'over_sample': False, #use overersampling for Marlowe corpus sentences\n",
    "  'over_sampling_fraction': 2, #fraction of the corpus used for oversampling\n",
    "  'batch_size': 16,  #number of batches for the creation of datasets\n",
    "  'epochs': 6, #number of epochs for the training of the model\n",
    "  'max_seq_len': 16, #sets the maximum sentence length to a value close to the median sentence length of the corpus (BERT max is 512)\n",
    "  'learning_rate': 4e-5, #sets the learning rate for ADAM optimizer\n",
    "  'decay_factor': 0.0001,\n",
    "  'cycles': 6\n",
    "}"
   ]
  },
  {
   "cell_type": "code",
   "execution_count": 5,
   "metadata": {},
   "outputs": [
    {
     "name": "stdout",
     "output_type": "stream",
     "text": [
      "INFO:tensorflow:Using MirroredStrategy with devices ('/job:localhost/replica:0/task:0/device:GPU:0',)\n",
      "Using GPU\n"
     ]
    }
   ],
   "source": [
    "if 'COLAB_TPU_ADDR' in os.environ:\n",
    "  cluster_resolver = tf.distribute.cluster_resolver.TPUClusterResolver(tpu='')\n",
    "  tf.config.experimental_connect_to_cluster(cluster_resolver)\n",
    "  tf.tpu.experimental.initialize_tpu_system(cluster_resolver)\n",
    "  strategy = tf.distribute.TPUStrategy(cluster_resolver)\n",
    "  print('Using TPU')\n",
    "elif tf.config.list_physical_devices('GPU'):\n",
    "  strategy = tf.distribute.MirroredStrategy()\n",
    "  print('Using GPU')\n",
    "else:\n",
    "  raise ValueError('Running on CPU is not recommended.')\n"
   ]
  },
  {
   "cell_type": "code",
   "execution_count": 6,
   "metadata": {},
   "outputs": [],
   "source": [
    "def importPlaysinCorpus(CorpusPath,Author):\n",
    "    \"\"\"Imports plays in text form to the corpus dataframe (preferable cleaned)\"\"\"\n",
    "    corpus=pd.DataFrame()\n",
    "    for play in os.scandir(CorpusPath):\n",
    "        if play.is_file():\n",
    "            print((\" importing  \") + (play.path) + (\" to corpus\"))\n",
    "            newplay=pd.read_csv(play.path, delimiter='\\r', header=None, names=['sentence', 'author', 'play'])\n",
    "            newplay[['author']]=Author\n",
    "            if 'Cleaned' in play.path:\n",
    "                newplay[['play']]=os.path.basename(play.path).removesuffix('Cleaned.txt')\n",
    "            else:\n",
    "                newplay[['play']]=os.path.basename(play.path).removesuffix('.txt')\n",
    "            corpus=pd.concat([corpus, newplay], axis = 0,join='outer')\n",
    "    return corpus"
   ]
  },
  {
   "cell_type": "code",
   "execution_count": 7,
   "metadata": {},
   "outputs": [
    {
     "name": "stdout",
     "output_type": "stream",
     "text": [
      " importing  ./Corpus/Marlowe/Dido.txt to corpus\n",
      " importing  ./Corpus/Marlowe/DrFaustus.txt to corpus\n",
      " importing  ./Corpus/Marlowe/EdwardII.txt to corpus\n",
      " importing  ./Corpus/Marlowe/JewOfMalta.txt to corpus\n",
      " importing  ./Corpus/Marlowe/Tamburlaine1.txt to corpus\n",
      " importing  ./Corpus/Marlowe/Tamburlaine2.txt to corpus\n",
      " importing  ./Corpus/Shakespeare/CleanedPlays/AnthonyCleopatraCleaned.txt to corpus\n",
      " importing  ./Corpus/Shakespeare/CleanedPlays/HenryVIIICleaned.txt to corpus\n",
      " importing  ./Corpus/Shakespeare/CleanedPlays/HenryVCleaned.txt to corpus\n",
      " importing  ./Corpus/Shakespeare/CleanedPlays/MacbethCleaned.txt to corpus\n",
      " importing  ./Corpus/Shakespeare/CleanedPlays/RichardIIICleaned.txt to corpus\n",
      " importing  ./Corpus/Shakespeare/CleanedPlays/HamletCleaned.txt to corpus\n"
     ]
    },
    {
     "name": "stderr",
     "output_type": "stream",
     "text": [
      "C:\\Users\\Panos\\AppData\\Local\\Temp\\ipykernel_7652\\3063647115.py:6: FutureWarning: The frame.append method is deprecated and will be removed from pandas in a future version. Use pandas.concat instead.\n",
      "  projectCorpus=projectCorpus.append(importPlaysinCorpus(ShakespearePath,'Shakespeare'))\n"
     ]
    }
   ],
   "source": [
    "projectCorpus=pd.DataFrame()\n",
    "MarlowePath='./Corpus/Marlowe/'\n",
    "ShakespearePath='./Corpus/Shakespeare/CleanedPlays/'\n",
    "\n",
    "projectCorpus=importPlaysinCorpus(MarlowePath,'Marlowe')\n",
    "projectCorpus=projectCorpus.append(importPlaysinCorpus(ShakespearePath,'Shakespeare'))\n",
    "projectCorpus['sentence']=projectCorpus['sentence'].str.lower()\n",
    "NewProjectCorpus=projectCorpus"
   ]
  },
  {
   "cell_type": "markdown",
   "metadata": {},
   "source": [
    "Over and under sampling corpus"
   ]
  },
  {
   "cell_type": "code",
   "execution_count": 8,
   "metadata": {},
   "outputs": [],
   "source": [
    "if ProjConfig['over_sample']==True:\n",
    "    ShakespeareMedian=projectCorpus.loc[projectCorpus['author'] == 'Shakespeare'].play.value_counts().median()\n",
    "    MarloweCorpusAddition=pd.DataFrame()\n",
    "    for play in projectCorpus.loc[projectCorpus['author'] == 'Marlowe'].play.unique():\n",
    "        selectedPlay=projectCorpus.loc[projectCorpus['play'] == play] \n",
    "        if selectedPlay.value_counts().sum() < ShakespeareMedian:\n",
    "            selecteplaySample=selectedPlay.sample(int(selectedPlay['sentence'].value_counts().sum()/ProjConfig['over_sampling_fraction']))\n",
    "            MarloweCorpusAddition=pd.concat([MarloweCorpusAddition,selecteplaySample])\n",
    "            print('adding a sample from ', play, 'to Marlowe\\'s corpus')\n",
    "    #adding a fraction of Marlowe's corpus to increase its volume\n",
    "    NewProjectCorpus=pd.concat([projectCorpus, MarloweCorpusAddition], axis = 0,join='outer')"
   ]
  },
  {
   "cell_type": "code",
   "execution_count": 9,
   "metadata": {},
   "outputs": [
    {
     "name": "stdout",
     "output_type": "stream",
     "text": [
      " importing  ./Corpus/Marlowe/Dido.txt to corpus\n",
      " importing  ./Corpus/Marlowe/DrFaustus.txt to corpus\n",
      " importing  ./Corpus/Marlowe/EdwardII.txt to corpus\n",
      " importing  ./Corpus/Marlowe/JewOfMalta.txt to corpus\n",
      " importing  ./Corpus/Marlowe/Tamburlaine1.txt to corpus\n",
      " importing  ./Corpus/Marlowe/Tamburlaine2.txt to corpus\n"
     ]
    }
   ],
   "source": [
    "if ProjConfig['under_sample']==True:\n",
    "    ShakespeareMedian=projectCorpus.loc[projectCorpus['author'] == 'Shakespeare'].play.value_counts().median()\n",
    "    NewShakesepareCorpus=pd.DataFrame()\n",
    "    MarloweMedian=projectCorpus.loc[projectCorpus['author'] == 'Marlowe'].play.value_counts().median()\n",
    "    if MarloweMedian < ShakespeareMedian:\n",
    "        for play in projectCorpus.loc[projectCorpus['author'] == 'Shakespeare'].play.unique():\n",
    "            selectedPlay=projectCorpus.loc[projectCorpus['play'] == play]\n",
    "            if selectedPlay.value_counts().sum() > MarloweMedian:\n",
    "                playSample = selectedPlay.sample(int(MarloweMedian-ProjConfig['under_sampling_weight']))\n",
    "                NewShakesepareCorpus=pd.concat([NewShakesepareCorpus, playSample], axis = 0,join='outer')\n",
    "    #checking if over-sampled texts have been added\n",
    "    if NewProjectCorpus.sentence.count()==projectCorpus.sentence.count():\n",
    "        NewProjectCorpus = importPlaysinCorpus(MarlowePath,'Marlowe')        \n",
    "        NewProjectCorpus = pd.concat([NewProjectCorpus, NewShakesepareCorpus], axis = 0,join='outer')\n",
    "        NewProjectCorpus['sentence']=NewProjectCorpus['sentence'].str.lower()\n",
    "    "
   ]
  },
  {
   "cell_type": "markdown",
   "metadata": {},
   "source": [
    "Coprus Statistics"
   ]
  },
  {
   "cell_type": "code",
   "execution_count": 10,
   "metadata": {},
   "outputs": [],
   "source": [
    "def wordsPerPlay(corpus):\n",
    "    columns=['Play', 'Words Sum', 'Author']\n",
    "    PlayList=[]\n",
    "    for Play in corpus['play'].unique():\n",
    "            PlayInLoop=(corpus.loc[corpus['play'] == Play])\n",
    "            PlaySum = sum(PlayInLoop['sentence'].str.count('\\w+'))\n",
    "            PlayName = Play\n",
    "            PlayAuthor = PlayInLoop['author'].unique()[0]\n",
    "            PlayList.append([PlayName,PlaySum,PlayAuthor])\n",
    "            \n",
    "    WordsPerPlay=pd.DataFrame(PlayList, columns=columns)\n",
    "    return WordsPerPlay"
   ]
  },
  {
   "cell_type": "code",
   "execution_count": 11,
   "metadata": {},
   "outputs": [
    {
     "name": "stdout",
     "output_type": "stream",
     "text": [
      "Initial corpus:\n",
      "                 Play  Words Sum       Author\n",
      "0               Dido      14003      Marlowe\n",
      "1          DrFaustus      12040      Marlowe\n",
      "2           EdwardII      21164      Marlowe\n",
      "3         JewOfMalta      19328      Marlowe\n",
      "4       Tamburlaine1      17666      Marlowe\n",
      "5       Tamburlaine2      17921      Marlowe\n",
      "6   AnthonyCleopatra      24163  Shakespeare\n",
      "7          HenryVIII      24230  Shakespeare\n",
      "8             HenryV      28687  Shakespeare\n",
      "9            Macbeth      16859  Shakespeare\n",
      "10        RichardIII      30886  Shakespeare\n",
      "11            Hamlet      29958  Shakespeare \n",
      " New Corpus:\n",
      "                 Play  Words Sum       Author\n",
      "0               Dido      14003      Marlowe\n",
      "1          DrFaustus      12040      Marlowe\n",
      "2           EdwardII      21164      Marlowe\n",
      "3         JewOfMalta      19328      Marlowe\n",
      "4       Tamburlaine1      17666      Marlowe\n",
      "5       Tamburlaine2      17921      Marlowe\n",
      "6   AnthonyCleopatra      15705  Shakespeare\n",
      "7          HenryVIII      16840  Shakespeare\n",
      "8             HenryV      20633  Shakespeare\n",
      "9         RichardIII      18520  Shakespeare\n",
      "10            Hamlet      18480  Shakespeare\n",
      "initial corpus Mean:\t 21408.75 \t New Corpus Mean:\t 17481.81818181818\n",
      "Corpus median sentence length:\t 8.0\n",
      "Corpus max sentence length:\t 76\n",
      "Shakespeare initial corpus mean  25797 , Shakespeare corpus mean after sampling  18035\n",
      "Marlowe initial sampling         17020 , Marlowe corpus mean after sampling      17020\n"
     ]
    }
   ],
   "source": [
    "corpusStats=wordsPerPlay(projectCorpus)\n",
    "newCorpusStats=wordsPerPlay(NewProjectCorpus)\n",
    "medianSentLength = np.median(NewProjectCorpus['sentence'].apply(lambda x: len([words for words in x.split(\" \") if isinstance(x, str)])))\n",
    "maxSentLength = np.max(NewProjectCorpus['sentence'].apply(lambda x: len([words for words in x.split(\" \") if isinstance(x, str)])))\n",
    "print(\"Initial corpus:\\n\",corpusStats,\"\\n\",\"New Corpus:\\n\",newCorpusStats)\n",
    "print(\"initial corpus Mean:\\t\",corpusStats['Words Sum'].mean(),\"\\t\",\"New Corpus Mean:\\t\",newCorpusStats['Words Sum'].mean())\n",
    "print(\"Corpus median sentence length:\\t\",medianSentLength)\n",
    "print(\"Corpus max sentence length:\\t\",maxSentLength)\n",
    "print(\"Shakespeare initial corpus mean \",int(corpusStats.loc[corpusStats['Author'] == 'Shakespeare']['Words Sum'].mean()),\", Shakespeare corpus mean after sampling \",int(newCorpusStats.loc[corpusStats['Author'] == 'Shakespeare']['Words Sum'].mean()))\n",
    "print(\"Marlowe initial sampling        \",int(corpusStats.loc[corpusStats['Author'] == 'Marlowe']['Words Sum'].mean()),\", Marlowe corpus mean after sampling     \",int(newCorpusStats.loc[corpusStats['Author'] == 'Marlowe']['Words Sum'].mean()))"
   ]
  },
  {
   "cell_type": "code",
   "execution_count": 12,
   "metadata": {},
   "outputs": [],
   "source": [
    "#replacing the author with 0 for Marlowe and 1 for Shakespeare\n",
    "NewProjectCorpus['author'].replace(['Marlowe','Shakespeare'],[0,1],inplace=True)"
   ]
  },
  {
   "cell_type": "markdown",
   "metadata": {},
   "source": [
    "Setting the model and creating the BERT layer"
   ]
  },
  {
   "cell_type": "code",
   "execution_count": 13,
   "metadata": {},
   "outputs": [
    {
     "name": "stdout",
     "output_type": "stream",
     "text": [
      "BERT vocab file location : b'C:\\\\Users\\\\Panos\\\\AppData\\\\Local\\\\Temp\\\\tfhub_modules\\\\d760773f85f64fc84ae0b47310f7cfe3bcec4868\\\\assets\\\\vocab.txt'\n"
     ]
    }
   ],
   "source": [
    "modelURL ='https://tfhub.dev/tensorflow/bert_en_uncased_L-12_H-768_A-12/4'\n",
    "\n",
    "#creating the initial layer\n",
    "bert_layer = hub.KerasLayer(modelURL , trainable=False, name=\"BERT\")\n",
    "#creating the vocabulary file\n",
    "vocab_file = bert_layer.resolved_object.vocab_file.asset_path.numpy()\n",
    "print(f'BERT vocab file location : {vocab_file}')\n",
    "\n"
   ]
  },
  {
   "cell_type": "markdown",
   "metadata": {},
   "source": [
    "<p1><bold>Creating the Tokenizer for BERT</bold></p1>"
   ]
  },
  {
   "cell_type": "markdown",
   "metadata": {},
   "source": [
    "BERT vocabulary creation functions"
   ]
  },
  {
   "cell_type": "code",
   "execution_count": 14,
   "metadata": {},
   "outputs": [],
   "source": [
    "def load_vocab(vocab_file):\n",
    "  \"\"\"Loads a vocab file into a list.\"\"\"\n",
    "  vocab = []\n",
    "  with tf.io.gfile.GFile(vocab_file, \"r\") as reader:\n",
    "    while True:\n",
    "      token = reader.readline()\n",
    "      if not token: break\n",
    "      token = token.strip()\n",
    "      vocab.append(token)\n",
    "  return vocab\n",
    "\n",
    "vocab = load_vocab(vocab_file)"
   ]
  },
  {
   "cell_type": "code",
   "execution_count": 15,
   "metadata": {},
   "outputs": [],
   "source": [
    "def createVocabTable(vocab, num_oov=1):\n",
    "  \"\"\"Creates a vocabulary table \"\"\"\n",
    "  vocabValues = tf.range(tf.size(vocab, out_type=tf.int64), dtype=tf.int64)\n",
    "  init = tf.lookup.KeyValueTensorInitializer(keys=vocab, values=vocabValues, key_dtype=tf.string, value_dtype=tf.int64)\n",
    "  vocabTable = tf.lookup.StaticVocabularyTable(init, num_oov, lookup_key_dtype=tf.string)\n",
    "  return vocabTable\n"
   ]
  },
  {
   "cell_type": "code",
   "execution_count": 16,
   "metadata": {},
   "outputs": [],
   "source": [
    "vocabLookupTable = createVocabTable(vocab)"
   ]
  },
  {
   "cell_type": "code",
   "execution_count": 17,
   "metadata": {},
   "outputs": [],
   "source": [
    "def createIndex2Word(vocab):\n",
    "  # Create a lookup table for a index to token\n",
    "  vocabValues = tf.range(tf.size(vocab, out_type=tf.int64), dtype=tf.int64)\n",
    "  init = tf.lookup.KeyValueTensorInitializer(keys=vocabValues, values=vocab)\n",
    "  return tf.lookup.StaticHashTable(initializer=init, default_value=tf.constant('unk'), name=\"index2word\")"
   ]
  },
  {
   "cell_type": "code",
   "execution_count": 18,
   "metadata": {},
   "outputs": [
    {
     "data": {
      "text/plain": [
       "<tensorflow.python.ops.lookup_ops.StaticHashTable at 0x1dccf4fe9d0>"
      ]
     },
     "execution_count": 18,
     "metadata": {},
     "output_type": "execute_result"
    }
   ],
   "source": [
    "index2Word = createIndex2Word(vocab)\n",
    "index2Word"
   ]
  },
  {
   "cell_type": "markdown",
   "metadata": {},
   "source": [
    "Tokenizer functions"
   ]
  },
  {
   "cell_type": "code",
   "execution_count": 19,
   "metadata": {},
   "outputs": [],
   "source": [
    "#initialization of the tokenizer with its settings\n",
    "tokenizer = text.BertTokenizer( \n",
    "    vocabLookupTable,\n",
    "    suffix_indicator = \"##\",\n",
    "    max_bytes_per_word = 100,\n",
    "    max_chars_per_token=None,\n",
    "    unknown_token = '[UNK]',\n",
    "    token_out_type=tf.int64,\n",
    "    lower_case=False,\n",
    "    preserve_unused_token = False,    \n",
    "  )"
   ]
  },
  {
   "cell_type": "code",
   "execution_count": 20,
   "metadata": {},
   "outputs": [
    {
     "data": {
      "text/plain": [
       "<tf.Tensor: shape=(8,), dtype=int64, numpy=\n",
       "array([    0,   100,   101,   102,   103, 30522, 30522,  2020],\n",
       "      dtype=int64)>"
      ]
     },
     "execution_count": 20,
     "metadata": {},
     "output_type": "execute_result"
    }
   ],
   "source": [
    "#testing to see if the vocabulary contains BERT tokens, new line and some words\n",
    "vocabLookupTable.lookup(tf.constant(['[PAD]', '[UNK]', '[CLS]', '[SEP]', '[MASK]', '\\n', 'I', 'were']))"
   ]
  },
  {
   "cell_type": "code",
   "execution_count": 21,
   "metadata": {},
   "outputs": [],
   "source": [
    "PAD_ID = vocabLookupTable.lookup(tf.constant('[PAD]')) # padding token\n",
    "CLS_ID = vocabLookupTable.lookup(tf.constant('[CLS]')) # class token\n",
    "SEP_ID = vocabLookupTable.lookup(tf.constant('[SEP]')) # sentence separator token\n",
    "def tokenize_text(sentence, seq_len):\n",
    "  # convert text into token ids\n",
    "  tokens = tokenizer.tokenize(sentence)\n",
    "  # flatten the output ragged tensors\n",
    "  tokens = tokens.merge_dims(1, 2)[:, :seq_len]\n",
    "  # Add start and end token ids to the id sequence\n",
    "  startTokens = tf.fill([tf.shape(sentence)[0], 1], CLS_ID)\n",
    "  endTokens = tf.fill([tf.shape(sentence)[0], 1], SEP_ID)\n",
    "  tokens = tokens[:, :seq_len - 2]\n",
    "  tokens = tf.concat([startTokens, tokens, endTokens], axis=1)\n",
    "  # truncate sequences greater than MAX_SEQ_LEN\n",
    "  tokens = tokens[:, :seq_len]\n",
    "  # pad shorter sequences with the pad token id\n",
    "  tokens = tokens.to_tensor(default_value=PAD_ID)\n",
    "  pad = seq_len - tf.shape(tokens)[1]\n",
    "  tokens = tf.pad(tokens, [[0, 0], [0, pad]], constant_values=PAD_ID)\n",
    "\n",
    "  # reshaping the word token ids to fit the output \n",
    "  return tf.reshape(tokens, [-1, seq_len])"
   ]
  },
  {
   "cell_type": "code",
   "execution_count": 22,
   "metadata": {},
   "outputs": [
    {
     "data": {
      "text/plain": [
       "<tf.RaggedTensor [[b'[CLS]', b'the', b'tragedy', b'of', b'dido', b'queen', b'[SEP]',\n",
       "  b'[PAD]', b'[PAD]']                                              ,\n",
       " [b'[CLS]', b'of', b'carthage', b'.', b'[SEP]', b'[PAD]', b'[PAD]',\n",
       "  b'[PAD]', b'[PAD]', b'[PAD]']                                    ,\n",
       " [b'[CLS]', b'here', b'the', b'curtains', b'draw', b',', b'there', b'is',\n",
       "  b'discovered', b'[SEP]']                                               ,\n",
       " [b'[CLS]', b'ganymede', b'upon', b'his', b'knee', b',', b'and', b'[SEP]'],\n",
       " [b'[CLS]', b'lying', b'asleep', b'.', b'[SEP]', b'[PAD]', b'[PAD]',\n",
       "  b'[PAD]', b'[PAD]', b'[PAD]']                                     ,\n",
       " [b'[CLS]', b'come', b'gentle', b'ganymede', b'and', b'play', b'with',\n",
       "  b'[SEP]']                                                           ,\n",
       " [b'[CLS]', b'i', b'am', b'much', b'better', b'for', b'your', b'worthless',\n",
       "  b'love', b'[SEP]']                                                       ,\n",
       " [b'[CLS]', b'today', b'whenas', b'i', b'filled', b'into', b'your', b'cups',\n",
       "  b'[SEP]']                                                                 ,\n",
       " [b'[CLS]', b'and', b'held', b'the', b'cloth', b'of', b'pleasance',\n",
       "  b'while', b'[SEP]']                                              ,\n",
       " [b'[CLS]', b'as', b'made', b'the', b'blood', b'run', b'down', b'about',\n",
       "  b'mine', b'[SEP]']                                                    ]>"
      ]
     },
     "execution_count": 22,
     "metadata": {},
     "output_type": "execute_result"
    }
   ],
   "source": [
    "tokens=tokenize_text(NewProjectCorpus['sentence'][0:10].values, 10)\n",
    "tokenizer.detokenize(tokens)"
   ]
  },
  {
   "cell_type": "markdown",
   "metadata": {},
   "source": [
    "Preprocessing Functions"
   ]
  },
  {
   "cell_type": "code",
   "execution_count": 23,
   "metadata": {},
   "outputs": [],
   "source": [
    "def preprocessBERTInput(tokens,seq_len):\n",
    "  # calculating the mask\n",
    "  mask = tf.cast(tokens > 0, tf.int64)\n",
    "  mask = tf.reshape(mask, [-1, seq_len])\n",
    "  # calculating token type ID\n",
    "  zeros_dims = tf.stack(tf.shape(mask))\n",
    "  type_ids = tf.fill(zeros_dims, 0)\n",
    "  type_ids = tf.cast(type_ids, tf.int64)\n",
    "  return (mask, type_ids)\n"
   ]
  },
  {
   "cell_type": "code",
   "execution_count": 24,
   "metadata": {},
   "outputs": [],
   "source": [
    "def trainingPreProcess(sentence, seq_len):\n",
    "  # calculate token IDs\n",
    "  ids = tokenize_text(sentence, seq_len)\n",
    "  # process review to calculate BERT input\n",
    "  mask, type_ids = preprocessBERTInput(ids,seq_len)\n",
    "  return  ids, mask, type_ids\n"
   ]
  },
  {
   "cell_type": "code",
   "execution_count": 25,
   "metadata": {},
   "outputs": [],
   "source": [
    "def PreProcess(sentence, author, seq_len):\n",
    "  # calculate token IDs\n",
    "  ids = tokenize_text(sentence, seq_len)\n",
    "  # process review to calculate BERT input\n",
    "  mask, type_ids = preprocessBERTInput(ids,seq_len)\n",
    "  return  (ids, mask, type_ids),author\n"
   ]
  },
  {
   "cell_type": "markdown",
   "metadata": {},
   "source": [
    "Dataset creation for training, testing and validation"
   ]
  },
  {
   "cell_type": "code",
   "execution_count": 26,
   "metadata": {},
   "outputs": [],
   "source": [
    "def createDataset(Dataset,BatchSize,max_seq_len):\n",
    "    \"\"\"Preprocesses the corpus to produce the input for BERT,\n",
    "       creates a batched tensorflow dataset with prefetch \"\"\"\n",
    "    result = PreProcess(Dataset['sentence'].values,Dataset['author'].values,max_seq_len)\n",
    "    result = tf.data.Dataset.from_tensor_slices(result)\n",
    "    result = result.batch(BatchSize)\n",
    "    result = result.prefetch(buffer_size=tf.data.experimental.AUTOTUNE)\n",
    "    return result"
   ]
  },
  {
   "cell_type": "code",
   "execution_count": 27,
   "metadata": {},
   "outputs": [],
   "source": [
    "def createShuffledDatasets(corpus):\n",
    "    train, validate = train_test_split(corpus, test_size=0.2, shuffle=True,stratify= corpus['author']) \n",
    "    #test, validate = train_test_split(test, test_size=0.5)\n",
    "\n",
    "\n",
    "    trainDataset=createDataset(train,ProjConfig['batch_size'],ProjConfig['max_seq_len'])\n",
    "    EvalDataset=createDataset(validate,ProjConfig['batch_size'],ProjConfig['max_seq_len'])\n",
    "    #testDataset=createDataset(test,ProjConfig['batch_size'],ProjConfig['max_seq_len'])\n",
    "    return trainDataset,EvalDataset"
   ]
  },
  {
   "cell_type": "code",
   "execution_count": 28,
   "metadata": {},
   "outputs": [
    {
     "data": {
      "text/plain": [
       "<PrefetchDataset element_spec=((TensorSpec(shape=(None, 16), dtype=tf.int64, name=None), TensorSpec(shape=(None, 16), dtype=tf.int64, name=None), TensorSpec(shape=(None, 16), dtype=tf.int64, name=None)), TensorSpec(shape=(None,), dtype=tf.int64, name=None))>"
      ]
     },
     "execution_count": 28,
     "metadata": {},
     "output_type": "execute_result"
    }
   ],
   "source": [
    "train, validate=createShuffledDatasets(NewProjectCorpus)\n",
    "train"
   ]
  },
  {
   "cell_type": "markdown",
   "metadata": {},
   "source": [
    "Model creation and training"
   ]
  },
  {
   "cell_type": "code",
   "execution_count": 31,
   "metadata": {},
   "outputs": [],
   "source": [
    "def createModel(maxSeqLen,learningRate,decayFactor):\n",
    "    input_word_ids = tf.keras.layers.Input(shape=(maxSeqLen,), dtype=tf.int32, name=\"input_word_ids\")\n",
    "    input_mask = tf.keras.layers.Input(shape=(maxSeqLen,), dtype=tf.int32, name=\"input_mask\")\n",
    "    input_type_ids = tf.keras.layers.Input(shape=(maxSeqLen,), dtype=tf.int32, name=\"input_type_ids\")\n",
    "    \n",
    "    bert_inputs = dict(\n",
    "        input_word_ids=input_word_ids,\n",
    "        input_mask=input_mask,\n",
    "        input_type_ids=input_type_ids)\n",
    "    #adding the layers\n",
    "    pooled_output = bert_layer(bert_inputs)['pooled_output'] #creates the layer for the three inputs\n",
    "    Dropout = tf.keras.layers.Dropout(0.005, name=\"dropout\")(pooled_output,training=False) #creates the dropout layer, to prevent overfitting (used only during training)\n",
    "    Output = tf.keras.layers.Dense(1, activation='softmax', name=\"output\")(Dropout) # only 2 classes, using sigmoid for activation\n",
    "    #configuring the optimizer\n",
    "    optimizer=tf.keras.optimizers.legacy.Adam(\n",
    "        learning_rate=learningRate , #default 0.001\n",
    "        #beta_1=0.9,\n",
    "        #beta_2=0.999,\n",
    "        #epsilon= 1e-4 ,\n",
    "        amsgrad=False,\n",
    "        name='Adam',\n",
    "        decay=decayFactor\n",
    "    )\n",
    "\n",
    "    model = tf.keras.Model(inputs=bert_inputs, outputs = Output)\n",
    "    model.compile(optimizer=optimizer, loss=\"binary_crossentropy\", metrics=['accuracy'])\n",
    "    print(model.summary())\n",
    "    return model\n",
    "    "
   ]
  },
  {
   "cell_type": "code",
   "execution_count": 32,
   "metadata": {},
   "outputs": [
    {
     "name": "stdout",
     "output_type": "stream",
     "text": [
      "Model: \"model\"\n",
      "__________________________________________________________________________________________________\n",
      " Layer (type)                   Output Shape         Param #     Connected to                     \n",
      "==================================================================================================\n",
      " input_mask (InputLayer)        [(None, 16)]         0           []                               \n",
      "                                                                                                  \n",
      " input_type_ids (InputLayer)    [(None, 16)]         0           []                               \n",
      "                                                                                                  \n",
      " input_word_ids (InputLayer)    [(None, 16)]         0           []                               \n",
      "                                                                                                  \n",
      " BERT (KerasLayer)              {'default': (None,   109482241   ['input_mask[0][0]',             \n",
      "                                768),                             'input_type_ids[0][0]',         \n",
      "                                 'encoder_outputs':               'input_word_ids[0][0]']         \n",
      "                                 [(None, 16, 768),                                                \n",
      "                                 (None, 16, 768),                                                 \n",
      "                                 (None, 16, 768),                                                 \n",
      "                                 (None, 16, 768),                                                 \n",
      "                                 (None, 16, 768),                                                 \n",
      "                                 (None, 16, 768),                                                 \n",
      "                                 (None, 16, 768),                                                 \n",
      "                                 (None, 16, 768),                                                 \n",
      "                                 (None, 16, 768),                                                 \n",
      "                                 (None, 16, 768),                                                 \n",
      "                                 (None, 16, 768),                                                 \n",
      "                                 (None, 16, 768)],                                                \n",
      "                                 'pooled_output': (                                               \n",
      "                                None, 768),                                                       \n",
      "                                 'sequence_output':                                               \n",
      "                                 (None, 16, 768)}                                                 \n",
      "                                                                                                  \n",
      " dropout (Dropout)              (None, 768)          0           ['BERT[0][13]']                  \n",
      "                                                                                                  \n",
      " output (Dense)                 (None, 1)            769         ['dropout[0][0]']                \n",
      "                                                                                                  \n",
      "==================================================================================================\n",
      "Total params: 109,483,010\n",
      "Trainable params: 769\n",
      "Non-trainable params: 109,482,241\n",
      "__________________________________________________________________________________________________\n",
      "None\n"
     ]
    }
   ],
   "source": [
    "model=createModel(ProjConfig['max_seq_len'],ProjConfig['learning_rate'],ProjConfig['decay_factor'])"
   ]
  },
  {
   "cell_type": "code",
   "execution_count": 33,
   "metadata": {},
   "outputs": [
    {
     "data": {
      "image/png": "[encoded data removed]",
      "text/plain": [
       "<IPython.core.display.Image object>"
      ]
     },
     "execution_count": 33,
     "metadata": {},
     "output_type": "execute_result"
    }
   ],
   "source": [
    "tf.keras.utils.plot_model(model)"
   ]
  },
  {
   "cell_type": "code",
   "execution_count": 36,
   "metadata": {},
   "outputs": [],
   "source": [
    "def trainModel (epochsNumber,cycles):\n",
    "    history=pd.DataFrame()\n",
    "    for cycle in range(cycles):\n",
    "     \n",
    "        print(f'Cycle number: {cycle+1}')\n",
    "        trainDataset,EvalDataset=createShuffledDatasets(NewProjectCorpus)\n",
    "\n",
    "        checkpoint_path = \"c:\\\\model\\\\\"\n",
    "        checkpoint_dir = os.path.dirname(checkpoint_path)\n",
    "\n",
    "        # Create a callback that saves the model's weights\n",
    "        checkpoint_callback = tf.keras.callbacks.ModelCheckpoint(filepath=checkpoint_path,\n",
    "                                                                save_weights_only=True,\n",
    "                                                                verbose=1)\n",
    "\n",
    "        #load the model from the checkpoint path\n",
    "        #model.load_weights(checkpoint_path)\n",
    "\n",
    "        #Tuning decay via Learning rate \n",
    "        def TuneLearningRate(epochsNumber,rate):\n",
    "            if epoch < 6 :#or cycle < 0 :\n",
    "                return rate\n",
    "            else:\n",
    "                return rate * tf.math.exp(-0.0001)\n",
    "\n",
    "        #create callbcak for the learning rate scheduler\n",
    "        scheduler = tf.keras.callbacks.LearningRateScheduler(TuneLearningRate)\n",
    "\n",
    "        results=model.fit(trainDataset,\n",
    "                    epochs=epochsNumber,\n",
    "                    validation_data=EvalDataset,\n",
    "                    #callbacks=[checkpoint_callback,scheduler]\n",
    "                    callbacks=[checkpoint_callback]\n",
    "                    )\n",
    "        history=history.append(results.history, ignore_index=True)\n",
    "    return history"
   ]
  },
  {
   "cell_type": "code",
   "execution_count": 37,
   "metadata": {},
   "outputs": [
    {
     "name": "stdout",
     "output_type": "stream",
     "text": [
      "Cycle number: 1\n",
      "Epoch 1/6\n",
      "1249/1250 [============================>.] - ETA: 0s - loss: 0.6898 - accuracy: 0.4793\n",
      "Epoch 1: saving model to c:\\model\\\n"
     ]
    }
   ],
   "source": [
    "results=trainModel(ProjConfig['epochs'], ProjConfig['cycles'])"
   ]
  },
  {
   "cell_type": "code",
   "execution_count": null,
   "metadata": {},
   "outputs": [],
   "source": [
    "def plotResults(results):\n",
    "    acc = results['accuracy']\n",
    "    val_acc = results['val_accuracy']\n",
    "    loss = results['loss']\n",
    "    val_loss = results['val_loss']\n",
    "\n",
    "    epochs_range = range(ProjConfig['epochs'])\n",
    "    plt.figure(figsize=(8, 8))\n",
    "    plt.subplot(1, 2, 1)\n",
    "    plt.plot(epochs_range, acc, label='Training Accuracy',)\n",
    "    plt.plot(epochs_range, val_acc, label='Validation Accuracy')\n",
    "    plt.legend(loc='lower right')\n",
    "    plt.suptitle('Learning rate: '+ str((ProjConfig['learning_rate']))+'\\n'\n",
    "                'Decay factor: '+ str((ProjConfig['decay_factor']))+'\\n'\n",
    "                'Max Sequence Length: '+ str((ProjConfig['max_seq_len']))+'\\n' \n",
    "                'cycle: '+ str((results.name))+'\\n' +'\\n')\n",
    "                \n",
    "   \n",
    "    plt.title('\\n' +'Training and Validation Accuracy')\n",
    "    plt.subplot(1, 2, 2)\n",
    "\n",
    "    plt.plot(epochs_range, loss, label='Training Loss')\n",
    "    plt.plot(epochs_range, val_loss, label='Validation Loss')\n",
    "\n",
    "    plt.legend(loc='upper right')\n",
    "    plt.title('Training and Validation Loss')\n",
    "    plt.show()"
   ]
  },
  {
   "cell_type": "code",
   "execution_count": null,
   "metadata": {},
   "outputs": [],
   "source": [
    "\n",
    "results"
   ]
  },
  {
   "cell_type": "code",
   "execution_count": null,
   "metadata": {},
   "outputs": [],
   "source": [
    "results_lists = results[['loss','accuracy','val_loss','val_accuracy']].unstack().apply(pd.Series)"
   ]
  },
  {
   "cell_type": "code",
   "execution_count": null,
   "metadata": {},
   "outputs": [],
   "source": [
    "results_lists[1].name"
   ]
  },
  {
   "cell_type": "code",
   "execution_count": null,
   "metadata": {},
   "outputs": [],
   "source": [
    "for cycle in results_lists.columns:\n",
    "    plotResults(results_lists[cycle])"
   ]
  },
  {
   "cell_type": "code",
   "execution_count": null,
   "metadata": {},
   "outputs": [],
   "source": [
    "Predictions =model.predict(testDataset)\n",
    "PredictionsList=[]\n",
    "PredictionsList.append(Predictions)\n",
    "\n",
    "testPredictions=test\n",
    "testPredictions['predictions']=PredictionsList[0]\n",
    "testPredictions['predictionsRounded']=testPredictions['predictions'].apply(round)"
   ]
  },
  {
   "cell_type": "code",
   "execution_count": null,
   "metadata": {},
   "outputs": [],
   "source": [
    "class_likelihood_ratios(testPredictions['author'],testPredictions['predictionsRounded'],labels=(0,1))\n"
   ]
  },
  {
   "cell_type": "code",
   "execution_count": null,
   "metadata": {},
   "outputs": [],
   "source": [
    "testPredictions.loc[testPredictions['author'] == testPredictions['predictionsRounded']].play.value_counts()#"
   ]
  },
  {
   "cell_type": "code",
   "execution_count": null,
   "metadata": {},
   "outputs": [],
   "source": [
    "testPredictions.loc[testPredictions['author'] != testPredictions['predictionsRounded']].play.value_counts()#"
   ]
  },
  {
   "cell_type": "code",
   "execution_count": null,
   "metadata": {},
   "outputs": [],
   "source": [
    "def cleanShakespeareText(filePath):\n",
    "    with open(filePath) as file:\n",
    "        lines = file.readlines()\n",
    "        file.close()\n",
    "    text=[]\n",
    "\n",
    "    for line in lines:\n",
    "        if line =='\\n':\n",
    "            continue\n",
    "        \n",
    "        line=clean.removeSpeakerName(line) #remove speaker's name from  each line\n",
    "        line=clean.removeLinesBasedOnWords(['ACT', 'SCENE'],line) # removing lines with the words ACTS and Scenes\n",
    "        line=clean.removeWords(['1','2','3','4','5','6','7','8','9'],line)\n",
    "        line=clean.removeLinesBasedOnWords(['Exit'],line)\n",
    "        line=clean.removeLinesBasedOnWords(['Enter'],line)\n",
    "        line=clean.remove_words_in_brackets(line)\n",
    "        line=clean.removeWhitespace(line)\n",
    "        text.append(line)\n",
    "    return text    "
   ]
  },
  {
   "cell_type": "code",
   "execution_count": null,
   "metadata": {},
   "outputs": [],
   "source": [
    "def cleanFilesinPath(playPath,cleanFilesPath):\n",
    "    for play in os.scandir(playPath):\n",
    "        if play.is_file():\n",
    "            print((\" cleaning  \") + (play.name))\n",
    "            cleanedPlay=cleanShakespeareText(play.path)\n",
    "            \n",
    "            with open(cleanFilesPath+play.name.removesuffix('.txt')+'Cleaned'+'.txt', 'w') as cleanedFile:\n",
    "                cleanedFile.write(\"\\n\".join(str(item) for item in cleanedPlay))\n",
    "                "
   ]
  },
  {
   "cell_type": "code",
   "execution_count": null,
   "metadata": {},
   "outputs": [],
   "source": [
    "OriginalShakespearePath='./Corpus/UnseenTexts/Shakespeare/'\n",
    "CleanShakespearePath='./Corpus/UnseenTexts/Shakespeare/CleanedPlays/'\n",
    "cleanFilesinPath(OriginalShakespearePath,CleanShakespearePath)\n"
   ]
  },
  {
   "cell_type": "code",
   "execution_count": null,
   "metadata": {},
   "outputs": [],
   "source": [
    "def importPlaysinCorpus(CorpusPath,Author):\n",
    "    corpus=pd.DataFrame()\n",
    "    for play in os.scandir(CorpusPath):\n",
    "        if play.is_file():\n",
    "            print((\" importing  \") + (play.path) + (\" to corpus\"))\n",
    "            newplay=pd.read_csv(play.path, delimiter='\\r', header=None, names=['sentence', 'author', 'play'])\n",
    "            newplay[['author']]=Author\n",
    "            if 'Cleaned' in play.path:\n",
    "                newplay[['play']]=os.path.basename(play.path).removesuffix('Cleaned.txt')\n",
    "            else:\n",
    "                newplay[['play']]=os.path.basename(play.path).removesuffix('.txt')\n",
    "            corpus=pd.concat([corpus, newplay], axis = 0,join='outer')\n",
    "    return corpus\n"
   ]
  },
  {
   "cell_type": "code",
   "execution_count": null,
   "metadata": {},
   "outputs": [],
   "source": [
    "ShakespeareUnseenPath='./Corpus/UnseenTexts/Shakespeare/CleanedPlays/'\n",
    "MarloweUnseenPath='./Corpus/UnseenTexts/Marlowe/'\n",
    "ShakespeareUnseen=pd.DataFrame()\n",
    "\n",
    "ShakespeareUnseen=importPlaysinCorpus(ShakespeareUnseenPath,'Shakespeare')\n",
    "ShakespeareUnseen['sentence']=ShakespeareUnseen['sentence'].str.lower()\n",
    "\n",
    "MarloweUnseen=importPlaysinCorpus(MarloweUnseenPath,'Marlowe')\n",
    "MarloweUnseen['sentence']=MarloweUnseen['sentence'].str.lower()\n",
    "Unseen=pd.DataFrame()\n",
    "Unseen=pd.concat([Unseen,MarloweUnseen],axis=0, join=\"outer\")\n",
    "Unseen=pd.concat([Unseen,ShakespeareUnseen],axis=0, join=\"outer\")\n",
    "#shuffling line in the dataframe\n",
    "Unseen=Unseen.sample(frac = 1)\n",
    "#replacing the author with 0 for Marlowe and 1 for Shakespeare\n",
    "Unseen['author'].replace(['Marlowe','Shakespeare'],[0,1],inplace=True)"
   ]
  },
  {
   "cell_type": "code",
   "execution_count": null,
   "metadata": {},
   "outputs": [],
   "source": [
    "\n",
    "UnseenDataset=createDataset(Unseen,ProjConfig['batch_size'],ProjConfig['max_seq_len'])\n",
    "Predictions =model.predict(UnseenDataset)\n",
    "PredictionsList=[]\n",
    "PredictionsList.append(Predictions)\n",
    "\n",
    "\n",
    "Unseen['predictions']=PredictionsList[0]\n",
    "Unseen['predictionsRounded']=Unseen['predictions'].apply(round)"
   ]
  },
  {
   "cell_type": "code",
   "execution_count": null,
   "metadata": {},
   "outputs": [],
   "source": [
    "Unseen"
   ]
  },
  {
   "cell_type": "code",
   "execution_count": null,
   "metadata": {},
   "outputs": [],
   "source": [
    "PredictionsStats=[]\n",
    "PredictionsStats=Unseen.loc[Unseen['author'] != Unseen['predictionsRounded']].play.value_counts()\n",
    "PredictionsStats.columns=['author','Not Correct']\n",
    "PredictionsStats=PredictionsStats.to_frame(name='Not Correct')\n",
    "PredictionsStats['Correct']=Unseen.loc[Unseen['author'] == Unseen['predictionsRounded']].play.value_counts()\n",
    "PredictionsStats['Accuracy']=PredictionsStats['Correct']/(PredictionsStats['Correct']+PredictionsStats['Not Correct'])\n",
    "PredictionsStats"
   ]
  },
  {
   "cell_type": "code",
   "execution_count": null,
   "metadata": {},
   "outputs": [],
   "source": [
    "class_likelihood_ratios(Unseen['author'],Unseen['predictionsRounded'],labels=(0,1))"
   ]
  }
 ],
 "metadata": {
  "kernelspec": {
   "display_name": "Marlowe-TF",
   "language": "python",
   "name": "python3"
  },
  "language_info": {
   "codemirror_mode": {
    "name": "ipython",
    "version": 3
   },
   "file_extension": ".py",
   "mimetype": "text/x-python",
   "name": "python",
   "nbconvert_exporter": "python",
   "pygments_lexer": "ipython3",
   "version": "3.9.17"
  },
  "orig_nbformat": 4
 },
 "nbformat": 4,
 "nbformat_minor": 2
}
